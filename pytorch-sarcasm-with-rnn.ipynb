{
 "cells": [
  {
   "cell_type": "code",
   "execution_count": 1,
   "metadata": {
    "_cell_guid": "b1076dfc-b9ad-4769-8c92-a6c4dae69d19",
    "_uuid": "8f2839f25d086af736a60e9eeb907d3b93b6e0e5",
    "execution": {
     "iopub.execute_input": "2022-11-06T06:51:20.271636Z",
     "iopub.status.busy": "2022-11-06T06:51:20.270902Z",
     "iopub.status.idle": "2022-11-06T06:51:20.283337Z",
     "shell.execute_reply": "2022-11-06T06:51:20.282166Z",
     "shell.execute_reply.started": "2022-11-06T06:51:20.271265Z"
    }
   },
   "outputs": [],
   "source": [
    "# This Python 3 environment comes with many helpful analytics libraries installed\n",
    "# It is defined by the kaggle/python docker image: https://github.com/kaggle/docker-python\n",
    "# For example, here's several helpful packages to load in \n",
    "\n",
    "import numpy as np # linear algebra\n",
    "import pandas as pd # data processing, CSV file I/O (e.g. pd.read_csv)\n",
    "\n",
    "# Input data files are available in the \"../input/\" directory.\n",
    "# For example, running this (by clicking run or pressing Shift+Enter) will list all files under the input directory\n",
    "\n",
    "import os\n",
    "for dirname, _, filenames in os.walk('/kaggle/input'):\n",
    "    for filename in filenames:\n",
    "        print(os.path.join(dirname, filename))\n",
    "\n",
    "# Any results you write to the current directory are saved as output."
   ]
  },
  {
   "cell_type": "code",
   "execution_count": 2,
   "metadata": {},
   "outputs": [
    {
     "name": "stdout",
     "output_type": "stream",
     "text": [
      "/opt/anaconda3/bin/python\r\n"
     ]
    }
   ],
   "source": [
    "!which python"
   ]
  },
  {
   "cell_type": "code",
   "execution_count": 3,
   "metadata": {
    "_cell_guid": "79c7e3d0-c299-4dcb-8224-4455121ee9b0",
    "_uuid": "d629ff2d2480ee46fbb7e2d37f6b5fab8052498a",
    "execution": {
     "iopub.execute_input": "2022-11-06T06:51:20.286358Z",
     "iopub.status.busy": "2022-11-06T06:51:20.285889Z",
     "iopub.status.idle": "2022-11-06T06:51:20.290814Z",
     "shell.execute_reply": "2022-11-06T06:51:20.289736Z",
     "shell.execute_reply.started": "2022-11-06T06:51:20.286173Z"
    }
   },
   "outputs": [],
   "source": [
    "from torchtext import data\n",
    "from torchtext import datasets"
   ]
  },
  {
   "cell_type": "code",
   "execution_count": 4,
   "metadata": {
    "execution": {
     "iopub.execute_input": "2022-11-06T06:51:20.292816Z",
     "iopub.status.busy": "2022-11-06T06:51:20.292215Z",
     "iopub.status.idle": "2022-11-06T06:51:20.300633Z",
     "shell.execute_reply": "2022-11-06T06:51:20.299981Z",
     "shell.execute_reply.started": "2022-11-06T06:51:20.292767Z"
    }
   },
   "outputs": [],
   "source": [
    "import torch\n",
    "from torch import nn, optim"
   ]
  },
  {
   "cell_type": "code",
   "execution_count": 6,
   "metadata": {},
   "outputs": [
    {
     "name": "stdout",
     "output_type": "stream",
     "text": [
      "Collecting en-core-web-sm==3.3.0\n",
      "  Downloading https://github.com/explosion/spacy-models/releases/download/en_core_web_sm-3.3.0/en_core_web_sm-3.3.0-py3-none-any.whl (12.8 MB)\n",
      "Requirement already satisfied: spacy<3.4.0,>=3.3.0.dev0 in /opt/anaconda3/lib/python3.9/site-packages (from en-core-web-sm==3.3.0) (3.3.1)\n",
      "Requirement already satisfied: cymem<2.1.0,>=2.0.2 in /opt/anaconda3/lib/python3.9/site-packages (from spacy<3.4.0,>=3.3.0.dev0->en-core-web-sm==3.3.0) (2.0.6)\n",
      "Requirement already satisfied: preshed<3.1.0,>=3.0.2 in /opt/anaconda3/lib/python3.9/site-packages (from spacy<3.4.0,>=3.3.0.dev0->en-core-web-sm==3.3.0) (3.0.6)\n",
      "Requirement already satisfied: pathy>=0.3.5 in /opt/anaconda3/lib/python3.9/site-packages (from spacy<3.4.0,>=3.3.0.dev0->en-core-web-sm==3.3.0) (0.6.1)\n",
      "Requirement already satisfied: wasabi<1.1.0,>=0.9.1 in /opt/anaconda3/lib/python3.9/site-packages (from spacy<3.4.0,>=3.3.0.dev0->en-core-web-sm==3.3.0) (0.9.1)\n",
      "Requirement already satisfied: srsly<3.0.0,>=2.4.3 in /opt/anaconda3/lib/python3.9/site-packages (from spacy<3.4.0,>=3.3.0.dev0->en-core-web-sm==3.3.0) (2.4.3)\n",
      "Requirement already satisfied: tqdm<5.0.0,>=4.38.0 in /opt/anaconda3/lib/python3.9/site-packages (from spacy<3.4.0,>=3.3.0.dev0->en-core-web-sm==3.3.0) (4.64.0)\n",
      "Requirement already satisfied: requests<3.0.0,>=2.13.0 in /opt/anaconda3/lib/python3.9/site-packages (from spacy<3.4.0,>=3.3.0.dev0->en-core-web-sm==3.3.0) (2.27.1)\n",
      "Requirement already satisfied: thinc<8.1.0,>=8.0.14 in /opt/anaconda3/lib/python3.9/site-packages (from spacy<3.4.0,>=3.3.0.dev0->en-core-web-sm==3.3.0) (8.0.15)\n",
      "Requirement already satisfied: spacy-legacy<3.1.0,>=3.0.9 in /opt/anaconda3/lib/python3.9/site-packages (from spacy<3.4.0,>=3.3.0.dev0->en-core-web-sm==3.3.0) (3.0.9)\n",
      "Requirement already satisfied: jinja2 in /opt/anaconda3/lib/python3.9/site-packages (from spacy<3.4.0,>=3.3.0.dev0->en-core-web-sm==3.3.0) (2.11.3)\n",
      "Requirement already satisfied: blis<0.8.0,>=0.4.0 in /opt/anaconda3/lib/python3.9/site-packages (from spacy<3.4.0,>=3.3.0.dev0->en-core-web-sm==3.3.0) (0.7.7)\n",
      "Requirement already satisfied: numpy>=1.15.0 in /opt/anaconda3/lib/python3.9/site-packages (from spacy<3.4.0,>=3.3.0.dev0->en-core-web-sm==3.3.0) (1.21.5)\n",
      "Requirement already satisfied: catalogue<2.1.0,>=2.0.6 in /opt/anaconda3/lib/python3.9/site-packages (from spacy<3.4.0,>=3.3.0.dev0->en-core-web-sm==3.3.0) (2.0.7)\n",
      "Requirement already satisfied: murmurhash<1.1.0,>=0.28.0 in /opt/anaconda3/lib/python3.9/site-packages (from spacy<3.4.0,>=3.3.0.dev0->en-core-web-sm==3.3.0) (1.0.7)\n",
      "Requirement already satisfied: langcodes<4.0.0,>=3.2.0 in /opt/anaconda3/lib/python3.9/site-packages (from spacy<3.4.0,>=3.3.0.dev0->en-core-web-sm==3.3.0) (3.3.0)\n",
      "Collecting pydantic!=1.8,!=1.8.1,<1.9.0,>=1.7.4\n",
      "  Downloading pydantic-1.8.2-cp39-cp39-macosx_10_9_x86_64.whl (2.7 MB)\n",
      "Requirement already satisfied: setuptools in /opt/anaconda3/lib/python3.9/site-packages (from spacy<3.4.0,>=3.3.0.dev0->en-core-web-sm==3.3.0) (61.2.0)\n",
      "Requirement already satisfied: packaging>=20.0 in /opt/anaconda3/lib/python3.9/site-packages (from spacy<3.4.0,>=3.3.0.dev0->en-core-web-sm==3.3.0) (21.3)\n",
      "Requirement already satisfied: spacy-loggers<2.0.0,>=1.0.0 in /opt/anaconda3/lib/python3.9/site-packages (from spacy<3.4.0,>=3.3.0.dev0->en-core-web-sm==3.3.0) (1.0.1)\n",
      "Requirement already satisfied: typer<0.5.0,>=0.3.0 in /opt/anaconda3/lib/python3.9/site-packages (from spacy<3.4.0,>=3.3.0.dev0->en-core-web-sm==3.3.0) (0.4.1)\n",
      "Requirement already satisfied: pyparsing!=3.0.5,>=2.0.2 in /opt/anaconda3/lib/python3.9/site-packages (from packaging>=20.0->spacy<3.4.0,>=3.3.0.dev0->en-core-web-sm==3.3.0) (3.0.4)\n",
      "Requirement already satisfied: smart-open<6.0.0,>=5.0.0 in /opt/anaconda3/lib/python3.9/site-packages (from pathy>=0.3.5->spacy<3.4.0,>=3.3.0.dev0->en-core-web-sm==3.3.0) (5.1.0)\n",
      "Requirement already satisfied: typing-extensions>=3.7.4.3 in /opt/anaconda3/lib/python3.9/site-packages (from pydantic!=1.8,!=1.8.1,<1.9.0,>=1.7.4->spacy<3.4.0,>=3.3.0.dev0->en-core-web-sm==3.3.0) (4.1.1)\n",
      "Requirement already satisfied: urllib3<1.27,>=1.21.1 in /opt/anaconda3/lib/python3.9/site-packages (from requests<3.0.0,>=2.13.0->spacy<3.4.0,>=3.3.0.dev0->en-core-web-sm==3.3.0) (1.26.9)\n",
      "Requirement already satisfied: idna<4,>=2.5 in /opt/anaconda3/lib/python3.9/site-packages (from requests<3.0.0,>=2.13.0->spacy<3.4.0,>=3.3.0.dev0->en-core-web-sm==3.3.0) (3.3)\n",
      "Requirement already satisfied: charset-normalizer~=2.0.0 in /opt/anaconda3/lib/python3.9/site-packages (from requests<3.0.0,>=2.13.0->spacy<3.4.0,>=3.3.0.dev0->en-core-web-sm==3.3.0) (2.0.4)\n",
      "Requirement already satisfied: certifi>=2017.4.17 in /opt/anaconda3/lib/python3.9/site-packages (from requests<3.0.0,>=2.13.0->spacy<3.4.0,>=3.3.0.dev0->en-core-web-sm==3.3.0) (2021.10.8)\n",
      "Requirement already satisfied: click<9.0.0,>=7.1.1 in /opt/anaconda3/lib/python3.9/site-packages (from typer<0.5.0,>=0.3.0->spacy<3.4.0,>=3.3.0.dev0->en-core-web-sm==3.3.0) (8.0.4)\n",
      "Requirement already satisfied: MarkupSafe>=0.23 in /opt/anaconda3/lib/python3.9/site-packages (from jinja2->spacy<3.4.0,>=3.3.0.dev0->en-core-web-sm==3.3.0) (2.0.1)\n",
      "Installing collected packages: pydantic, en-core-web-sm\n",
      "  Attempting uninstall: pydantic\n",
      "    Found existing installation: pydantic 1.10.2\n",
      "    Uninstalling pydantic-1.10.2:\n",
      "      Successfully uninstalled pydantic-1.10.2\n",
      "Successfully installed en-core-web-sm-3.3.0 pydantic-1.8.2\n",
      "\u001b[38;5;2m✔ Download and installation successful\u001b[0m\n",
      "You can now load the package via spacy.load('en_core_web_sm')\n"
     ]
    }
   ],
   "source": [
    "import spacy\n",
    "from spacy.cli.download import download\n",
    "download(model=\"en_core_web_sm\")"
   ]
  },
  {
   "cell_type": "code",
   "execution_count": 9,
   "metadata": {
    "execution": {
     "iopub.execute_input": "2022-11-06T06:51:20.302914Z",
     "iopub.status.busy": "2022-11-06T06:51:20.302342Z",
     "iopub.status.idle": "2022-11-06T06:51:20.856034Z",
     "shell.execute_reply": "2022-11-06T06:51:20.855158Z",
     "shell.execute_reply.started": "2022-11-06T06:51:20.302867Z"
    }
   },
   "outputs": [],
   "source": [
    "HEADLINE = data.Field(tokenize='spacy', include_lengths = True,tokenizer_language='en_core_web_sm')\n",
    "ISSARCASTIC = data.LabelField()"
   ]
  },
  {
   "cell_type": "code",
   "execution_count": 10,
   "metadata": {
    "execution": {
     "iopub.execute_input": "2022-11-06T06:51:20.860165Z",
     "iopub.status.busy": "2022-11-06T06:51:20.859661Z",
     "iopub.status.idle": "2022-11-06T06:51:20.864873Z",
     "shell.execute_reply": "2022-11-06T06:51:20.863588Z",
     "shell.execute_reply.started": "2022-11-06T06:51:20.859955Z"
    }
   },
   "outputs": [],
   "source": [
    "_fields = {\n",
    "    'headline':('headline', HEADLINE),\n",
    "    'is_sarcastic':('sarcastic', ISSARCASTIC)\n",
    "}"
   ]
  },
  {
   "cell_type": "code",
   "execution_count": 11,
   "metadata": {
    "execution": {
     "iopub.execute_input": "2022-11-06T06:51:20.868608Z",
     "iopub.status.busy": "2022-11-06T06:51:20.867990Z",
     "iopub.status.idle": "2022-11-06T06:51:24.449379Z",
     "shell.execute_reply": "2022-11-06T06:51:24.448474Z",
     "shell.execute_reply.started": "2022-11-06T06:51:20.868271Z"
    }
   },
   "outputs": [],
   "source": [
    "sarcasm_data = data.TabularDataset(\n",
    "    path='./data/Sarcasm_Headlines_Dataset.json',\n",
    "    format='json',\n",
    "    fields=_fields\n",
    ")"
   ]
  },
  {
   "cell_type": "code",
   "execution_count": 14,
   "metadata": {
    "execution": {
     "iopub.execute_input": "2022-11-06T06:51:24.451192Z",
     "iopub.status.busy": "2022-11-06T06:51:24.450873Z",
     "iopub.status.idle": "2022-11-06T06:51:24.456548Z",
     "shell.execute_reply": "2022-11-06T06:51:24.455713Z",
     "shell.execute_reply.started": "2022-11-06T06:51:24.451143Z"
    }
   },
   "outputs": [
    {
     "name": "stdout",
     "output_type": "stream",
     "text": [
      "{'headline': ['former', 'versace', 'store', 'clerk', 'sues', 'over', 'secret', \"'\", 'black', 'code', \"'\", 'for', 'minority', 'shoppers'], 'sarcastic': 0}\n"
     ]
    }
   ],
   "source": [
    "print(vars(sarcasm_data[0]))"
   ]
  },
  {
   "cell_type": "code",
   "execution_count": 15,
   "metadata": {
    "execution": {
     "iopub.execute_input": "2022-11-06T06:51:24.458571Z",
     "iopub.status.busy": "2022-11-06T06:51:24.457992Z",
     "iopub.status.idle": "2022-11-06T06:51:24.500861Z",
     "shell.execute_reply": "2022-11-06T06:51:24.500266Z",
     "shell.execute_reply.started": "2022-11-06T06:51:24.458520Z"
    }
   },
   "outputs": [],
   "source": [
    "train_data, test_data = sarcasm_data.split()"
   ]
  },
  {
   "cell_type": "code",
   "execution_count": 16,
   "metadata": {
    "execution": {
     "iopub.execute_input": "2022-11-06T06:51:24.502855Z",
     "iopub.status.busy": "2022-11-06T06:51:24.502629Z",
     "iopub.status.idle": "2022-11-06T06:51:24.509882Z",
     "shell.execute_reply": "2022-11-06T06:51:24.509108Z",
     "shell.execute_reply.started": "2022-11-06T06:51:24.502812Z"
    }
   },
   "outputs": [
    {
     "data": {
      "text/plain": [
       "8013"
      ]
     },
     "execution_count": 16,
     "metadata": {},
     "output_type": "execute_result"
    }
   ],
   "source": [
    "len(test_data)"
   ]
  },
  {
   "cell_type": "code",
   "execution_count": 17,
   "metadata": {
    "execution": {
     "iopub.execute_input": "2022-11-06T06:51:24.511822Z",
     "iopub.status.busy": "2022-11-06T06:51:24.511319Z",
     "iopub.status.idle": "2022-11-06T06:51:24.516474Z",
     "shell.execute_reply": "2022-11-06T06:51:24.515612Z",
     "shell.execute_reply.started": "2022-11-06T06:51:24.511770Z"
    }
   },
   "outputs": [],
   "source": [
    "MAX_VOCAB_SIZE = 50_000"
   ]
  },
  {
   "cell_type": "code",
   "execution_count": 18,
   "metadata": {
    "execution": {
     "iopub.execute_input": "2022-11-06T06:51:24.518290Z",
     "iopub.status.busy": "2022-11-06T06:51:24.517754Z",
     "iopub.status.idle": "2022-11-06T06:51:25.326463Z",
     "shell.execute_reply": "2022-11-06T06:51:25.325563Z",
     "shell.execute_reply.started": "2022-11-06T06:51:24.518239Z"
    }
   },
   "outputs": [
    {
     "name": "stderr",
     "output_type": "stream",
     "text": [
      ".vector_cache/glove.6B.zip: 862MB [05:35, 2.57MB/s]                             \n",
      "100%|███████████████████████████████▉| 399999/400000 [00:10<00:00, 37192.01it/s]\n"
     ]
    }
   ],
   "source": [
    "HEADLINE.build_vocab(train_data, \n",
    "                 max_size = MAX_VOCAB_SIZE, \n",
    "                 vectors = \"glove.6B.100d\", \n",
    "                 unk_init = torch.Tensor.normal_)"
   ]
  },
  {
   "cell_type": "code",
   "execution_count": 19,
   "metadata": {
    "execution": {
     "iopub.execute_input": "2022-11-06T06:51:25.330330Z",
     "iopub.status.busy": "2022-11-06T06:51:25.330076Z",
     "iopub.status.idle": "2022-11-06T06:51:25.393606Z",
     "shell.execute_reply": "2022-11-06T06:51:25.392898Z",
     "shell.execute_reply.started": "2022-11-06T06:51:25.330284Z"
    }
   },
   "outputs": [],
   "source": [
    "ISSARCASTIC.build_vocab(train_data)"
   ]
  },
  {
   "cell_type": "code",
   "execution_count": 20,
   "metadata": {
    "execution": {
     "iopub.execute_input": "2022-11-06T06:51:25.395593Z",
     "iopub.status.busy": "2022-11-06T06:51:25.395007Z",
     "iopub.status.idle": "2022-11-06T06:51:25.439925Z",
     "shell.execute_reply": "2022-11-06T06:51:25.439169Z",
     "shell.execute_reply.started": "2022-11-06T06:51:25.395274Z"
    }
   },
   "outputs": [],
   "source": [
    "BATCH_SIZE = 64\n",
    "\n",
    "device = torch.device('cuda' if torch.cuda.is_available() else 'cpu')\n",
    "\n",
    "train_iterator, test_iterator = data.BucketIterator.splits(\n",
    "    (train_data, test_data), \n",
    "    batch_size = BATCH_SIZE,\n",
    "    sort_key = lambda x:len(x.headline),\n",
    "    sort_within_batch = True,\n",
    "    device = device)"
   ]
  },
  {
   "cell_type": "code",
   "execution_count": 21,
   "metadata": {
    "execution": {
     "iopub.execute_input": "2022-11-06T06:51:25.442531Z",
     "iopub.status.busy": "2022-11-06T06:51:25.441988Z",
     "iopub.status.idle": "2022-11-06T06:51:25.451713Z",
     "shell.execute_reply": "2022-11-06T06:51:25.450990Z",
     "shell.execute_reply.started": "2022-11-06T06:51:25.442482Z"
    }
   },
   "outputs": [],
   "source": [
    "class RNN(nn.Module):\n",
    "    def __init__(self, vocab_size, embedding_dim, hidden_dim, output_dim, n_layers, \n",
    "                 bidirectional, dropout, pad_idx):\n",
    "        super(RNN, self).__init__()\n",
    "        self.embedding = nn.Embedding(vocab_size, embedding_dim, padding_idx=pad_idx)\n",
    "        self.rnn = nn.LSTM(embedding_dim, hidden_dim, num_layers=n_layers, bidirectional=bidirectional,\n",
    "                          dropout=dropout)\n",
    "        self.fc = nn.Linear(hidden_dim*2, output_dim)\n",
    "        self.dropout = nn.Dropout(dropout)\n",
    "    def forward(self, text, text_lengths):\n",
    "        embedded = self.dropout(self.embedding(text))\n",
    "        \n",
    "        packed_embedded = nn.utils.rnn.pack_padded_sequence(embedded, text_lengths)\n",
    "        packed_output, (hidden, cell) = self.rnn(packed_embedded)\n",
    "        output, output_lengths = nn.utils.rnn.pad_packed_sequence(packed_output)\n",
    "        hidden = self.dropout(torch.cat((hidden[-2,:,:], hidden[-1,:,:]), dim = 1))\n",
    "        return self.fc(hidden)\n",
    "        "
   ]
  },
  {
   "cell_type": "code",
   "execution_count": 22,
   "metadata": {
    "execution": {
     "iopub.execute_input": "2022-11-06T06:51:25.453794Z",
     "iopub.status.busy": "2022-11-06T06:51:25.453358Z",
     "iopub.status.idle": "2022-11-06T06:51:25.494587Z",
     "shell.execute_reply": "2022-11-06T06:51:25.493937Z",
     "shell.execute_reply.started": "2022-11-06T06:51:25.453616Z"
    }
   },
   "outputs": [],
   "source": [
    "INPUT_DIM = len(HEADLINE.vocab)\n",
    "EMBEDDING_DIM = 100\n",
    "HIDDEN_DIM = 256\n",
    "OUTPUT_DIM = 1\n",
    "N_LAYERS = 2\n",
    "BIDIRECTIONAL = True\n",
    "DROPOUT = 0.5\n",
    "PAD_IDX = HEADLINE.vocab.stoi[HEADLINE.pad_token]\n",
    "\n",
    "model = RNN(INPUT_DIM, \n",
    "            EMBEDDING_DIM, \n",
    "            HIDDEN_DIM, \n",
    "            OUTPUT_DIM, \n",
    "            N_LAYERS, \n",
    "            BIDIRECTIONAL, \n",
    "            DROPOUT, \n",
    "            PAD_IDX)"
   ]
  },
  {
   "cell_type": "code",
   "execution_count": 23,
   "metadata": {
    "execution": {
     "iopub.execute_input": "2022-11-06T06:51:25.496871Z",
     "iopub.status.busy": "2022-11-06T06:51:25.496291Z",
     "iopub.status.idle": "2022-11-06T06:51:25.504117Z",
     "shell.execute_reply": "2022-11-06T06:51:25.502181Z",
     "shell.execute_reply.started": "2022-11-06T06:51:25.496556Z"
    }
   },
   "outputs": [
    {
     "name": "stdout",
     "output_type": "stream",
     "text": [
      "The model has 4,494,157 trainable parameters\n"
     ]
    }
   ],
   "source": [
    "def count_parameters(model):\n",
    "    return sum(p.numel() for p in model.parameters() if p.requires_grad)\n",
    "\n",
    "print(f'The model has {count_parameters(model):,} trainable parameters')"
   ]
  },
  {
   "cell_type": "code",
   "execution_count": 24,
   "metadata": {
    "execution": {
     "iopub.execute_input": "2022-11-06T06:51:25.506029Z",
     "iopub.status.busy": "2022-11-06T06:51:25.505566Z",
     "iopub.status.idle": "2022-11-06T06:51:25.512531Z",
     "shell.execute_reply": "2022-11-06T06:51:25.511692Z",
     "shell.execute_reply.started": "2022-11-06T06:51:25.505981Z"
    }
   },
   "outputs": [
    {
     "name": "stdout",
     "output_type": "stream",
     "text": [
      "torch.Size([21835, 100])\n"
     ]
    }
   ],
   "source": [
    "pretrained_embeddings = HEADLINE.vocab.vectors\n",
    "\n",
    "print(pretrained_embeddings.shape)"
   ]
  },
  {
   "cell_type": "code",
   "execution_count": 25,
   "metadata": {
    "execution": {
     "iopub.execute_input": "2022-11-06T06:51:25.514466Z",
     "iopub.status.busy": "2022-11-06T06:51:25.513930Z",
     "iopub.status.idle": "2022-11-06T06:51:25.564702Z",
     "shell.execute_reply": "2022-11-06T06:51:25.563991Z",
     "shell.execute_reply.started": "2022-11-06T06:51:25.514417Z"
    }
   },
   "outputs": [
    {
     "data": {
      "text/plain": [
       "tensor([[-1.3767e-01,  2.0080e-01, -1.0861e+00,  ..., -2.5730e+00,\n",
       "         -5.5604e-02, -1.6429e+00],\n",
       "        [-1.2565e+00,  9.3560e-01,  1.1847e-01,  ..., -1.2946e+00,\n",
       "          2.2023e-01, -1.4333e-01],\n",
       "        [-1.8970e-01,  5.0024e-02,  1.9084e-01,  ..., -3.9804e-01,\n",
       "          4.7647e-01, -1.5983e-01],\n",
       "        ...,\n",
       "        [ 5.8076e-01, -1.5075e-01, -2.1487e+00,  ..., -4.1770e-01,\n",
       "         -1.8682e-01,  6.1738e-01],\n",
       "        [ 1.1097e-01,  3.6155e-01,  2.0370e-01,  ...,  2.2696e-01,\n",
       "          3.0238e-01, -5.6025e-04],\n",
       "        [ 1.6229e-01, -1.0102e+00,  3.4051e-02,  ...,  4.5540e-01,\n",
       "          1.1883e+00, -1.9166e+00]])"
      ]
     },
     "execution_count": 25,
     "metadata": {},
     "output_type": "execute_result"
    }
   ],
   "source": [
    "model.embedding.weight.data.copy_(pretrained_embeddings)"
   ]
  },
  {
   "cell_type": "code",
   "execution_count": 26,
   "metadata": {
    "execution": {
     "iopub.execute_input": "2022-11-06T06:51:25.566179Z",
     "iopub.status.busy": "2022-11-06T06:51:25.565906Z",
     "iopub.status.idle": "2022-11-06T06:51:25.576693Z",
     "shell.execute_reply": "2022-11-06T06:51:25.575818Z",
     "shell.execute_reply.started": "2022-11-06T06:51:25.566135Z"
    }
   },
   "outputs": [
    {
     "name": "stdout",
     "output_type": "stream",
     "text": [
      "tensor([[ 0.0000e+00,  0.0000e+00,  0.0000e+00,  ...,  0.0000e+00,\n",
      "          0.0000e+00,  0.0000e+00],\n",
      "        [ 0.0000e+00,  0.0000e+00,  0.0000e+00,  ...,  0.0000e+00,\n",
      "          0.0000e+00,  0.0000e+00],\n",
      "        [-1.8970e-01,  5.0024e-02,  1.9084e-01,  ..., -3.9804e-01,\n",
      "          4.7647e-01, -1.5983e-01],\n",
      "        ...,\n",
      "        [ 5.8076e-01, -1.5075e-01, -2.1487e+00,  ..., -4.1770e-01,\n",
      "         -1.8682e-01,  6.1738e-01],\n",
      "        [ 1.1097e-01,  3.6155e-01,  2.0370e-01,  ...,  2.2696e-01,\n",
      "          3.0238e-01, -5.6025e-04],\n",
      "        [ 1.6229e-01, -1.0102e+00,  3.4051e-02,  ...,  4.5540e-01,\n",
      "          1.1883e+00, -1.9166e+00]])\n"
     ]
    }
   ],
   "source": [
    "UNK_IDX = HEADLINE.vocab.stoi[HEADLINE.unk_token]\n",
    "\n",
    "model.embedding.weight.data[UNK_IDX] = torch.zeros(EMBEDDING_DIM)\n",
    "model.embedding.weight.data[PAD_IDX] = torch.zeros(EMBEDDING_DIM)\n",
    "\n",
    "print(model.embedding.weight.data)"
   ]
  },
  {
   "cell_type": "code",
   "execution_count": 27,
   "metadata": {
    "execution": {
     "iopub.execute_input": "2022-11-06T06:51:25.579356Z",
     "iopub.status.busy": "2022-11-06T06:51:25.578903Z",
     "iopub.status.idle": "2022-11-06T06:51:25.583656Z",
     "shell.execute_reply": "2022-11-06T06:51:25.582779Z",
     "shell.execute_reply.started": "2022-11-06T06:51:25.579306Z"
    }
   },
   "outputs": [],
   "source": [
    "import torch.optim as optim\n",
    "\n",
    "optimizer = optim.Adam(model.parameters())"
   ]
  },
  {
   "cell_type": "code",
   "execution_count": 28,
   "metadata": {
    "execution": {
     "iopub.execute_input": "2022-11-06T06:51:25.585543Z",
     "iopub.status.busy": "2022-11-06T06:51:25.585031Z",
     "iopub.status.idle": "2022-11-06T06:51:29.379582Z",
     "shell.execute_reply": "2022-11-06T06:51:29.378679Z",
     "shell.execute_reply.started": "2022-11-06T06:51:25.585362Z"
    }
   },
   "outputs": [],
   "source": [
    "criterion = nn.BCEWithLogitsLoss()\n",
    "\n",
    "model = model.to(device)\n",
    "criterion = criterion.to(device)"
   ]
  },
  {
   "cell_type": "code",
   "execution_count": 29,
   "metadata": {
    "execution": {
     "iopub.execute_input": "2022-11-06T06:51:29.381328Z",
     "iopub.status.busy": "2022-11-06T06:51:29.381024Z",
     "iopub.status.idle": "2022-11-06T06:51:29.388477Z",
     "shell.execute_reply": "2022-11-06T06:51:29.387517Z",
     "shell.execute_reply.started": "2022-11-06T06:51:29.381282Z"
    }
   },
   "outputs": [],
   "source": [
    "def binary_accuracy(preds, y):\n",
    "    \"\"\"\n",
    "    Returns accuracy per batch, i.e. if you get 8/10 right, this returns 0.8, NOT 8\n",
    "    \"\"\"\n",
    "\n",
    "    #round predictions to the closest integer\n",
    "    rounded_preds = torch.round(torch.sigmoid(preds))\n",
    "    correct = (rounded_preds == y).float() #convert into float for division \n",
    "    return correct.sum() / len(correct)"
   ]
  },
  {
   "cell_type": "code",
   "execution_count": 30,
   "metadata": {
    "execution": {
     "iopub.execute_input": "2022-11-06T06:51:29.390470Z",
     "iopub.status.busy": "2022-11-06T06:51:29.389916Z",
     "iopub.status.idle": "2022-11-06T06:51:29.399448Z",
     "shell.execute_reply": "2022-11-06T06:51:29.398595Z",
     "shell.execute_reply.started": "2022-11-06T06:51:29.390411Z"
    }
   },
   "outputs": [],
   "source": [
    "def train(model, iterator, optimizer, criterion):\n",
    "    epoch_loss = 0.0\n",
    "    epoch_acc = 0.0\n",
    "    for batch in iterator:\n",
    "        optimizer.zero_grad()\n",
    "        text, text_lengths = batch.headline\n",
    "        \n",
    "        predictions = model(text, text_lengths).squeeze(1)\n",
    "#         print(predictions)\n",
    "        loss = criterion(predictions, batch.sarcastic.type_as(predictions))\n",
    "        acc = binary_accuracy(predictions, batch.sarcastic.type_as(predictions))\n",
    "        loss.backward()\n",
    "        optimizer.step()\n",
    "        epoch_loss += loss.item()\n",
    "        epoch_acc += acc.item()\n",
    "    return epoch_loss / len(iterator), epoch_acc / len(iterator)"
   ]
  },
  {
   "cell_type": "code",
   "execution_count": 31,
   "metadata": {
    "execution": {
     "iopub.execute_input": "2022-11-06T06:51:29.401661Z",
     "iopub.status.busy": "2022-11-06T06:51:29.400912Z",
     "iopub.status.idle": "2022-11-06T06:51:29.411813Z",
     "shell.execute_reply": "2022-11-06T06:51:29.410822Z",
     "shell.execute_reply.started": "2022-11-06T06:51:29.401608Z"
    }
   },
   "outputs": [],
   "source": [
    "import time\n",
    "\n",
    "def epoch_time(start_time, end_time):\n",
    "    elapsed_time = end_time - start_time\n",
    "    elapsed_mins = int(elapsed_time / 60)\n",
    "    elapsed_secs = int(elapsed_time - (elapsed_mins * 60))\n",
    "    return elapsed_mins, elapsed_secs"
   ]
  },
  {
   "cell_type": "code",
   "execution_count": 32,
   "metadata": {
    "execution": {
     "iopub.execute_input": "2022-11-06T06:51:29.413840Z",
     "iopub.status.busy": "2022-11-06T06:51:29.413297Z",
     "iopub.status.idle": "2022-11-06T06:51:42.092737Z",
     "shell.execute_reply": "2022-11-06T06:51:42.091789Z",
     "shell.execute_reply.started": "2022-11-06T06:51:29.413791Z"
    }
   },
   "outputs": [
    {
     "name": "stdout",
     "output_type": "stream",
     "text": [
      "Epoch: 01 | Epoch Time: 1m 52s\n",
      "\tTrain Loss: 0.502 | Train Acc: 74.98%\n",
      "Epoch: 02 | Epoch Time: 2m 2s\n",
      "\tTrain Loss: 0.351 | Train Acc: 84.66%\n",
      "Epoch: 03 | Epoch Time: 1m 57s\n",
      "\tTrain Loss: 0.289 | Train Acc: 87.62%\n",
      "Epoch: 04 | Epoch Time: 1m 48s\n",
      "\tTrain Loss: 0.241 | Train Acc: 90.12%\n",
      "Epoch: 05 | Epoch Time: 1m 28s\n",
      "\tTrain Loss: 0.208 | Train Acc: 91.69%\n"
     ]
    }
   ],
   "source": [
    "N_EPOCHS = 5\n",
    "\n",
    "\n",
    "for epoch in range(N_EPOCHS):\n",
    "\n",
    "    start_time = time.time()\n",
    "    \n",
    "    train_loss, train_acc = train(model, train_iterator, optimizer, criterion)\n",
    "    \n",
    "    end_time = time.time()\n",
    "\n",
    "    epoch_mins, epoch_secs = epoch_time(start_time, end_time)\n",
    "    \n",
    "    print(f'Epoch: {epoch+1:02} | Epoch Time: {epoch_mins}m {epoch_secs}s')\n",
    "    print(f'\\tTrain Loss: {train_loss:.3f} | Train Acc: {train_acc*100:.2f}%')"
   ]
  },
  {
   "cell_type": "code",
   "execution_count": 33,
   "metadata": {
    "execution": {
     "iopub.execute_input": "2022-11-06T06:51:42.094571Z",
     "iopub.status.busy": "2022-11-06T06:51:42.094258Z",
     "iopub.status.idle": "2022-11-06T06:51:42.102503Z",
     "shell.execute_reply": "2022-11-06T06:51:42.101304Z",
     "shell.execute_reply.started": "2022-11-06T06:51:42.094519Z"
    }
   },
   "outputs": [],
   "source": [
    "def evaluate(model, iterator, criterion):\n",
    "    \n",
    "    epoch_loss = 0\n",
    "    epoch_acc = 0\n",
    "    \n",
    "    model.eval()\n",
    "    \n",
    "    with torch.no_grad():\n",
    "    \n",
    "        for batch in iterator:\n",
    "\n",
    "            text, text_lengths = batch.headline\n",
    "            \n",
    "            predictions = model(text, text_lengths).squeeze(1)\n",
    "            \n",
    "            loss = criterion(predictions, batch.sarcastic.type_as(predictions))\n",
    "            \n",
    "            acc = binary_accuracy(predictions, batch.sarcastic.type_as(predictions))\n",
    "\n",
    "            epoch_loss += loss.item()\n",
    "            epoch_acc += acc.item()\n",
    "        \n",
    "    return epoch_loss / len(iterator), epoch_acc / len(iterator)"
   ]
  },
  {
   "cell_type": "code",
   "execution_count": 34,
   "metadata": {
    "execution": {
     "iopub.execute_input": "2022-11-06T06:51:42.105014Z",
     "iopub.status.busy": "2022-11-06T06:51:42.104336Z",
     "iopub.status.idle": "2022-11-06T06:51:42.464377Z",
     "shell.execute_reply": "2022-11-06T06:51:42.463543Z",
     "shell.execute_reply.started": "2022-11-06T06:51:42.104739Z"
    }
   },
   "outputs": [
    {
     "name": "stdout",
     "output_type": "stream",
     "text": [
      "Test Loss: 0.259 | Test Acc: 89.35%\n"
     ]
    }
   ],
   "source": [
    "# model.load_state_dict(torch.load('tut2-model.pt'))\n",
    "\n",
    "test_loss, test_acc = evaluate(model, test_iterator, criterion)\n",
    "\n",
    "print(f'Test Loss: {test_loss:.3f} | Test Acc: {test_acc*100:.2f}%')"
   ]
  },
  {
   "cell_type": "code",
   "execution_count": 36,
   "metadata": {
    "execution": {
     "iopub.execute_input": "2022-11-06T06:51:42.466469Z",
     "iopub.status.busy": "2022-11-06T06:51:42.465717Z",
     "iopub.status.idle": "2022-11-06T06:51:43.005273Z",
     "shell.execute_reply": "2022-11-06T06:51:43.004179Z",
     "shell.execute_reply.started": "2022-11-06T06:51:42.466383Z"
    }
   },
   "outputs": [],
   "source": [
    "import spacy\n",
    "nlp = spacy.load('en_core_web_sm')"
   ]
  },
  {
   "cell_type": "code",
   "execution_count": 37,
   "metadata": {
    "execution": {
     "iopub.execute_input": "2022-11-06T06:51:43.007330Z",
     "iopub.status.busy": "2022-11-06T06:51:43.006725Z",
     "iopub.status.idle": "2022-11-06T06:51:43.013936Z",
     "shell.execute_reply": "2022-11-06T06:51:43.013167Z",
     "shell.execute_reply.started": "2022-11-06T06:51:43.007225Z"
    }
   },
   "outputs": [],
   "source": [
    "def predict_sarcasm(model, sentence):\n",
    "    model.eval()\n",
    "    tokenized = [tok.text for tok in nlp.tokenizer(sentence)]\n",
    "    indexed = [HEADLINE.vocab.stoi[t] for t in tokenized]\n",
    "    length = [len(indexed)]\n",
    "    tensor = torch.LongTensor(indexed).to(device)\n",
    "    tensor = tensor.unsqueeze(1)\n",
    "    length_tensor = torch.LongTensor(length)\n",
    "    prediction = torch.sigmoid(model(tensor, length_tensor))\n",
    "    return prediction.item()"
   ]
  },
  {
   "cell_type": "code",
   "execution_count": 38,
   "metadata": {
    "execution": {
     "iopub.execute_input": "2022-11-06T06:51:43.016008Z",
     "iopub.status.busy": "2022-11-06T06:51:43.015461Z",
     "iopub.status.idle": "2022-11-06T06:51:43.028437Z",
     "shell.execute_reply": "2022-11-06T06:51:43.027667Z",
     "shell.execute_reply.started": "2022-11-06T06:51:43.015863Z"
    }
   },
   "outputs": [
    {
     "data": {
      "text/plain": [
       "0.31399819254875183"
      ]
     },
     "execution_count": 38,
     "metadata": {},
     "output_type": "execute_result"
    }
   ],
   "source": [
    "predict_sarcasm(model, \"She gave him a sarcastic smile.\")"
   ]
  },
  {
   "cell_type": "code",
   "execution_count": null,
   "metadata": {},
   "outputs": [],
   "source": []
  }
 ],
 "metadata": {
  "kernelspec": {
   "display_name": "Python 3 (ipykernel)",
   "language": "python",
   "name": "python3"
  },
  "language_info": {
   "codemirror_mode": {
    "name": "ipython",
    "version": 3
   },
   "file_extension": ".py",
   "mimetype": "text/x-python",
   "name": "python",
   "nbconvert_exporter": "python",
   "pygments_lexer": "ipython3",
   "version": "3.9.12"
  }
 },
 "nbformat": 4,
 "nbformat_minor": 4
}
